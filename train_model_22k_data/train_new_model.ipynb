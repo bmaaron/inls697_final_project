{
 "cells": [
  {
   "cell_type": "markdown",
   "metadata": {},
   "source": [
    "From cleaning/preprocessing step:"
   ]
  },
  {
   "cell_type": "code",
   "execution_count": null,
   "metadata": {},
   "outputs": [],
   "source": [
    "TRAIN_CSV = \"train.csv\"\n",
    "VAL_CSV   = \"val.csv\"\n",
    "TEST_CSV  = \"test.csv\"\n",
    "\n",
    "# Train/Val/Test split ratios\n",
    "train_ratio = 0.8\n",
    "val_ratio   = 0.1\n",
    "test_ratio  = 0.1"
   ]
  },
  {
   "cell_type": "markdown",
   "metadata": {},
   "source": [
    "## Build / fine-tune BERT"
   ]
  },
  {
   "cell_type": "markdown",
   "metadata": {},
   "source": [
    "chunking approach with overlap (e.g., 128 tokens overlap)."
   ]
  },
  {
   "cell_type": "code",
   "execution_count": null,
   "metadata": {},
   "outputs": [],
   "source": [
    "def chunk_text(\n",
    "    text: str,\n",
    "    tokenizer,\n",
    "    max_len=512,\n",
    "    stride=128\n",
    "):\n",
    "    \"\"\"\n",
    "    Splits a text into overlapping 512-token chunks (by default).\n",
    "    Returns a list of 'encodings' suitable for BERT (each with input_ids, attention_mask).\n",
    "    \"\"\"\n",
    "    # Tokenize into IDs without truncation so we can see actual length\n",
    "    tokens = tokenizer.encode(text, add_special_tokens=False)\n",
    "    \n",
    "    # We'll store each chunk's 'encodings'\n",
    "    chunk_encodings = []\n",
    "    \n",
    "    # Slide over the token list with overlap\n",
    "    start = 0\n",
    "    while start < len(tokens):\n",
    "        end = start + max_len\n",
    "        # For the chunk we take tokens[start : end]\n",
    "        chunk = tokens[start:end]\n",
    "        # Now add [CLS] and [SEP] if needed – or rely on hugging face to do so.\n",
    "        encoded_dict = tokenizer.encode_plus(\n",
    "            chunk,\n",
    "            max_length=max_len,\n",
    "            truncation=True,\n",
    "            padding='max_length',\n",
    "            return_tensors='pt'\n",
    "        )\n",
    "        chunk_encodings.append(encoded_dict)\n",
    "        \n",
    "        # Move start forward by (max_len - stride)\n",
    "        start += (max_len - stride)\n",
    "    \n",
    "    return chunk_encodings\n"
   ]
  },
  {
   "cell_type": "markdown",
   "metadata": {},
   "source": [
    "We need to create a new DataFrame (or Hugging Face Dataset) that has one row per chunk. Each chunk inherits the same label from the original text."
   ]
  },
  {
   "cell_type": "code",
   "execution_count": null,
   "metadata": {},
   "outputs": [],
   "source": [
    "import pandas as pd\n",
    "from tqdm import tqdm\n",
    "from transformers import BertTokenizerFast\n",
    "\n",
    "tokenizer = BertTokenizerFast.from_pretrained(\"bert-base-uncased\")\n",
    "\n",
    "df = pd.read_csv(\"my_data.csv\")  # has columns: \"text\", \"label\"\n",
    "\n",
    "# This will hold expanded rows\n",
    "expanded_data = {\n",
    "    \"input_ids\": [],\n",
    "    \"attention_mask\": [],\n",
    "    \"labels\": []\n",
    "}\n",
    "\n",
    "for idx, row in tqdm(df.iterrows(), total=len(df)):\n",
    "    text = row[\"text\"]\n",
    "    label = row[\"label\"]  # could be 'left', 'center', 'right' or integer-coded\n",
    "    \n",
    "    # Convert label to int if needed\n",
    "    if label == \"left\":\n",
    "        label_id = 0\n",
    "    elif label == \"center\":\n",
    "        label_id = 1\n",
    "    elif label == \"right\":\n",
    "        label_id = 2\n",
    "    else:\n",
    "        # or raise an error if unknown\n",
    "        label_id = 2  # fallback\n",
    "\n",
    "    # Chunk it\n",
    "    chunked_encodings = chunk_text(text, tokenizer, max_len=512, stride=128)\n",
    "    \n",
    "    # Add each chunk to expanded dataset\n",
    "    for enc in chunked_encodings:\n",
    "        expanded_data[\"input_ids\"].append(enc[\"input_ids\"][0])  # shape [1,512]\n",
    "        expanded_data[\"attention_mask\"].append(enc[\"attention_mask\"][0])  # shape [1,512]\n",
    "        expanded_data[\"labels\"].append(label_id)\n",
    "\n",
    "# Convert to torch tensors if you want, or Hugging Face Dataset\n",
    "import torch\n",
    "input_ids_tensor = torch.stack(expanded_data[\"input_ids\"])       # shape [num_chunks,512]\n",
    "attention_mask_tensor = torch.stack(expanded_data[\"attention_mask\"])\n",
    "labels_tensor = torch.tensor(expanded_data[\"labels\"], dtype=torch.long)\n",
    "\n",
    "print(\"Final expanded dataset shape:\", input_ids_tensor.shape, attention_mask_tensor.shape, labels_tensor.shape)\n"
   ]
  },
  {
   "cell_type": "markdown",
   "metadata": {},
   "source": [
    "Fine-Tuning BERT on the Chunked Dataset"
   ]
  },
  {
   "cell_type": "code",
   "execution_count": null,
   "metadata": {},
   "outputs": [],
   "source": [
    "from torch.utils.data import TensorDataset, DataLoader, RandomSampler, SequentialSampler\n",
    "from transformers import BertForSequenceClassification, AdamW, get_linear_schedule_with_warmup\n",
    "\n",
    "# Create a TensorDataset\n",
    "train_dataset = TensorDataset(input_ids_tensor, attention_mask_tensor, labels_tensor)\n",
    "\n",
    "# Create DataLoader\n",
    "train_batch_size = 8\n",
    "train_dataloader = DataLoader(train_dataset, \n",
    "                              sampler=RandomSampler(train_dataset),\n",
    "                              batch_size=train_batch_size)\n",
    "\n",
    "# Load the model with 3 labels\n",
    "model = BertForSequenceClassification.from_pretrained(\"bert-base-uncased\", num_labels=3)\n",
    "\n",
    "# Move model to GPU if available\n",
    "device = torch.device(\"cuda\" if torch.cuda.is_available() else \"cpu\")\n",
    "model.to(device)\n",
    "\n",
    "# Setup optimizer\n",
    "optimizer = AdamW(model.parameters(), lr=2e-5)\n",
    "\n",
    "# Example: number of epochs\n",
    "epochs = 3\n",
    "total_steps = len(train_dataloader) * epochs\n",
    "\n",
    "# Create learning rate scheduler\n",
    "scheduler = get_linear_schedule_with_warmup(optimizer, \n",
    "                                            num_warmup_steps=0, \n",
    "                                            num_training_steps=total_steps)\n",
    "\n",
    "# Training loop (simplified)\n",
    "for epoch_i in range(epochs):\n",
    "    print(f\"Epoch {epoch_i+1}/{epochs}\")\n",
    "    model.train()\n",
    "    \n",
    "    for step, batch in enumerate(train_dataloader):\n",
    "        b_input_ids = batch[0].to(device)\n",
    "        b_input_mask = batch[1].to(device)\n",
    "        b_labels = batch[2].to(device)\n",
    "\n",
    "        outputs = model(\n",
    "            input_ids=b_input_ids,\n",
    "            attention_mask=b_input_mask,\n",
    "            labels=b_labels\n",
    "        )\n",
    "        loss = outputs.loss\n",
    "        logits = outputs.logits\n",
    "\n",
    "        # Backprop\n",
    "        loss.backward()\n",
    "        optimizer.step()\n",
    "        scheduler.step()\n",
    "        optimizer.zero_grad()\n",
    "\n",
    "        if step % 100 == 0:\n",
    "            print(f\"  Step {step}: loss = {loss.item():.4f}\")\n"
   ]
  },
  {
   "cell_type": "markdown",
   "metadata": {},
   "source": [
    "Inference (Production Pipeline)"
   ]
  },
  {
   "cell_type": "code",
   "execution_count": null,
   "metadata": {},
   "outputs": [],
   "source": [
    "import torch.nn.functional as F\n",
    "\n",
    "def classify_long_text(text):\n",
    "    # 1. Chunk\n",
    "    chunked_encs = chunk_text(text, tokenizer, max_len=512, stride=128)\n",
    "    \n",
    "    # 2. Inference on each chunk\n",
    "    sum_logits = None\n",
    "    for enc in chunked_encs:\n",
    "        # Make sure it’s on the correct device\n",
    "        input_ids = enc[\"input_ids\"].to(device)\n",
    "        att_mask = enc[\"attention_mask\"].to(device)\n",
    "        \n",
    "        with torch.no_grad():\n",
    "            outputs = model(input_ids=input_ids, attention_mask=att_mask)\n",
    "        \n",
    "        logits = outputs.logits  # shape [1, 3]\n",
    "        \n",
    "        if sum_logits is None:\n",
    "            sum_logits = logits\n",
    "        else:\n",
    "            sum_logits += logits\n",
    "\n",
    "    # 3. Average logits\n",
    "    avg_logits = sum_logits / len(chunked_encs)\n",
    "    probs = F.softmax(avg_logits, dim=-1)  # shape [1,3]\n",
    "    \n",
    "    # 4. Final label & confidence\n",
    "    pred_label_id = probs.argmax(dim=-1).item()\n",
    "    confidence = probs[0, pred_label_id].item()\n",
    "    \n",
    "    # Map ID back to string\n",
    "    label_map = {0: \"left\", 1: \"center\", 2: \"right\"}\n",
    "    return label_map[pred_label_id], confidence\n"
   ]
  },
  {
   "cell_type": "markdown",
   "metadata": {},
   "source": [
    "## Run Checks on Dataset"
   ]
  },
  {
   "cell_type": "markdown",
   "metadata": {},
   "source": [
    "## Checking for Extra/Unnamed Columns in Pandas DataFrame"
   ]
  },
  {
   "cell_type": "code",
   "execution_count": 1,
   "metadata": {},
   "outputs": [],
   "source": [
    "def verify_and_fix_df_columns(df):\n",
    "    \"\"\"\n",
    "    - Check for 'Unnamed' columns and drop them if found.\n",
    "    - Ensure the DataFrame has 'text' and 'label' columns.\n",
    "    - Print any issues found.\n",
    "    \"\"\"\n",
    "    # 1) Check for 'Unnamed' columns\n",
    "    unnamed_cols = [col for col in df.columns if col.startswith(\"Unnamed\")]\n",
    "    if unnamed_cols:\n",
    "        print(f\"[INFO] Found unnamed columns: {unnamed_cols}. Dropping them.\")\n",
    "        df.drop(columns=unnamed_cols, inplace=True)\n",
    "\n",
    "    # 2) Check required columns\n",
    "    required_cols = {\"text\", \"label\"}\n",
    "    df_cols = set(df.columns)\n",
    "    missing = required_cols - df_cols\n",
    "    if missing:\n",
    "        raise ValueError(f\"[ERROR] DataFrame is missing required columns: {missing}\")\n",
    "\n",
    "    # 3) (Optional) Check for empty text or label rows\n",
    "    # e.g., rows with empty strings in 'text' or NaN labels\n",
    "    if df[\"text\"].isnull().any():\n",
    "        print(\"[WARNING] Some rows have null text!\")\n",
    "    if df[\"label\"].isnull().any():\n",
    "        print(\"[WARNING] Some rows have null label!\")\n",
    "\n",
    "    print(\"[INFO] DataFrame columns verified:\", list(df.columns))\n",
    "    return df\n"
   ]
  },
  {
   "cell_type": "markdown",
   "metadata": {},
   "source": [
    "## Checking Column Names After Hugging Face Dataset Conversion"
   ]
  },
  {
   "cell_type": "code",
   "execution_count": 3,
   "metadata": {},
   "outputs": [],
   "source": [
    "from datasets import Dataset\n",
    "\n",
    "def check_dataset_columns(ds, expected_cols=None):\n",
    "    \"\"\"\n",
    "    Checks if the Dataset has the expected columns.\n",
    "    ds: Hugging Face Dataset object\n",
    "    expected_cols: list or set of columns (e.g. ['text', 'label'])\n",
    "    \"\"\"\n",
    "    if not expected_cols:\n",
    "        expected_cols = [\"text\", \"label\"]  # default\n",
    "    ds_cols = ds.column_names\n",
    "    missing = [col for col in expected_cols if col not in ds_cols]\n",
    "    if missing:\n",
    "        raise ValueError(f\"[ERROR] Dataset is missing required columns: {missing}\")\n",
    "    print(\"[INFO] Dataset has the required columns:\", ds_cols)\n",
    "\n"
   ]
  },
  {
   "cell_type": "markdown",
   "metadata": {},
   "source": [
    "## Checking Tokenized Dataset for “Missing Keys”"
   ]
  },
  {
   "cell_type": "code",
   "execution_count": 4,
   "metadata": {},
   "outputs": [],
   "source": [
    "def check_tokenized_dataset(ds):\n",
    "    \"\"\"\n",
    "    Ensure the tokenized dataset has input_ids, attention_mask, \n",
    "    and label columns (or whatever your training requires).\n",
    "    \"\"\"\n",
    "    required_keys = [\"input_ids\", \"attention_mask\", \"label\"]\n",
    "    ds_cols = ds.column_names\n",
    "    missing = [key for key in required_keys if key not in ds_cols]\n",
    "    if missing:\n",
    "        raise ValueError(f\"[ERROR] Missing columns after tokenization: {missing}\")\n",
    "    print(\"[INFO] Tokenized dataset columns are:\", ds_cols)\n"
   ]
  },
  {
   "cell_type": "markdown",
   "metadata": {},
   "source": [
    "## Run Checks"
   ]
  },
  {
   "cell_type": "code",
   "execution_count": 5,
   "metadata": {},
   "outputs": [
    {
     "name": "stderr",
     "output_type": "stream",
     "text": [
      "None of PyTorch, TensorFlow >= 2.0, or Flax have been found. Models won't be available and only tokenizers, configuration and file/data utilities can be used.\n"
     ]
    },
    {
     "name": "stdout",
     "output_type": "stream",
     "text": [
      "[INFO] DataFrame columns verified: ['text', 'label']\n",
      "[INFO] DataFrame columns verified: ['text', 'label']\n",
      "[INFO] DataFrame columns verified: ['text', 'label']\n",
      "[INFO] Dataset has the required columns: ['text', 'label']\n",
      "[INFO] Dataset has the required columns: ['text', 'label']\n",
      "[INFO] Dataset has the required columns: ['text', 'label']\n"
     ]
    },
    {
     "data": {
      "application/vnd.jupyter.widget-view+json": {
       "model_id": "a771fc3043354092ad961ad460c6d1b5",
       "version_major": 2,
       "version_minor": 0
      },
      "text/plain": [
       "tokenizer_config.json:   0%|          | 0.00/48.0 [00:00<?, ?B/s]"
      ]
     },
     "metadata": {},
     "output_type": "display_data"
    },
    {
     "data": {
      "application/vnd.jupyter.widget-view+json": {
       "model_id": "ced7f29ca1f845c88e5587451fa430fa",
       "version_major": 2,
       "version_minor": 0
      },
      "text/plain": [
       "vocab.txt:   0%|          | 0.00/232k [00:00<?, ?B/s]"
      ]
     },
     "metadata": {},
     "output_type": "display_data"
    },
    {
     "data": {
      "application/vnd.jupyter.widget-view+json": {
       "model_id": "310eb18b8acf48a781fd5a0022241c35",
       "version_major": 2,
       "version_minor": 0
      },
      "text/plain": [
       "tokenizer.json:   0%|          | 0.00/466k [00:00<?, ?B/s]"
      ]
     },
     "metadata": {},
     "output_type": "display_data"
    },
    {
     "data": {
      "application/vnd.jupyter.widget-view+json": {
       "model_id": "ce8b8d141bb94b698e62b555ba6c92f3",
       "version_major": 2,
       "version_minor": 0
      },
      "text/plain": [
       "config.json:   0%|          | 0.00/570 [00:00<?, ?B/s]"
      ]
     },
     "metadata": {},
     "output_type": "display_data"
    },
    {
     "data": {
      "application/vnd.jupyter.widget-view+json": {
       "model_id": "c5da7a12b6a2429ea4716b96eed91d26",
       "version_major": 2,
       "version_minor": 0
      },
      "text/plain": [
       "Map:   0%|          | 0/13888 [00:00<?, ? examples/s]"
      ]
     },
     "metadata": {},
     "output_type": "display_data"
    },
    {
     "data": {
      "application/vnd.jupyter.widget-view+json": {
       "model_id": "20e1fe0aec10495d8e1287ed8e57f5d7",
       "version_major": 2,
       "version_minor": 0
      },
      "text/plain": [
       "Map:   0%|          | 0/1736 [00:00<?, ? examples/s]"
      ]
     },
     "metadata": {},
     "output_type": "display_data"
    },
    {
     "data": {
      "application/vnd.jupyter.widget-view+json": {
       "model_id": "fcc78984b56045a7a284171d035eb515",
       "version_major": 2,
       "version_minor": 0
      },
      "text/plain": [
       "Map:   0%|          | 0/1738 [00:00<?, ? examples/s]"
      ]
     },
     "metadata": {},
     "output_type": "display_data"
    },
    {
     "name": "stdout",
     "output_type": "stream",
     "text": [
      "[INFO] Tokenized dataset columns are: ['text', 'label', 'input_ids', 'token_type_ids', 'attention_mask']\n",
      "[INFO] Tokenized dataset columns are: ['text', 'label', 'input_ids', 'token_type_ids', 'attention_mask']\n",
      "[INFO] Tokenized dataset columns are: ['text', 'label', 'input_ids', 'token_type_ids', 'attention_mask']\n"
     ]
    }
   ],
   "source": [
    "import pandas as pd\n",
    "from datasets import Dataset, DatasetDict\n",
    "from transformers import BertTokenizerFast\n",
    "\n",
    "# 1) Read CSV\n",
    "train_df = pd.read_csv(\"train.csv\")\n",
    "val_df   = pd.read_csv(\"val.csv\")\n",
    "test_df  = pd.read_csv(\"test.csv\")\n",
    "\n",
    "# 2) Verify & fix columns\n",
    "train_df = verify_and_fix_df_columns(train_df)\n",
    "val_df   = verify_and_fix_df_columns(val_df)\n",
    "test_df  = verify_and_fix_df_columns(test_df)\n",
    "\n",
    "# 3) Convert to Hugging Face Dataset\n",
    "train_ds = Dataset.from_pandas(train_df)\n",
    "val_ds   = Dataset.from_pandas(val_df)\n",
    "test_ds  = Dataset.from_pandas(test_df)\n",
    "\n",
    "check_dataset_columns(train_ds, [\"text\", \"label\"])\n",
    "check_dataset_columns(val_ds, [\"text\", \"label\"])\n",
    "check_dataset_columns(test_ds, [\"text\", \"label\"])\n",
    "\n",
    "# 4) Combine into a DatasetDict\n",
    "dataset = DatasetDict({\n",
    "    \"train\": train_ds,\n",
    "    \"validation\": val_ds,\n",
    "    \"test\": test_ds\n",
    "})\n",
    "\n",
    "# 5) Tokenize\n",
    "tokenizer = BertTokenizerFast.from_pretrained(\"bert-base-uncased\")\n",
    "\n",
    "def tokenize_function(example):\n",
    "    return tokenizer(\n",
    "        example[\"text\"], \n",
    "        truncation=True, \n",
    "        max_length=512\n",
    "    )\n",
    "\n",
    "encoded_dataset = dataset.map(tokenize_function, batched=True)\n",
    "\n",
    "# 6) Check tokenized dataset\n",
    "check_tokenized_dataset(encoded_dataset[\"train\"])\n",
    "check_tokenized_dataset(encoded_dataset[\"validation\"])\n",
    "check_tokenized_dataset(encoded_dataset[\"test\"])\n"
   ]
  },
  {
   "cell_type": "markdown",
   "metadata": {},
   "source": []
  }
 ],
 "metadata": {
  "kernelspec": {
   "display_name": "Python 3",
   "language": "python",
   "name": "python3"
  },
  "language_info": {
   "codemirror_mode": {
    "name": "ipython",
    "version": 3
   },
   "file_extension": ".py",
   "mimetype": "text/x-python",
   "name": "python",
   "nbconvert_exporter": "python",
   "pygments_lexer": "ipython3",
   "version": "3.10.1"
  }
 },
 "nbformat": 4,
 "nbformat_minor": 2
}
