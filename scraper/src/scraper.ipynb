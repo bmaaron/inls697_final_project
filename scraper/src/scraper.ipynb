{
 "cells": [
  {
   "cell_type": "markdown",
   "metadata": {},
   "source": [
    "## Scrape website title and 1st paragraph"
   ]
  },
  {
   "cell_type": "markdown",
   "metadata": {},
   "source": []
  },
  {
   "cell_type": "code",
   "execution_count": 1,
   "metadata": {},
   "outputs": [],
   "source": [
    "import requests\n",
    "from bs4 import BeautifulSoup"
   ]
  },
  {
   "cell_type": "code",
   "execution_count": 3,
   "metadata": {},
   "outputs": [
    {
     "name": "stdout",
     "output_type": "stream",
     "text": [
      "Title: America’s border crisis, in charts | Vox\n",
      "Snippet: America’s border crisis, in charts | Vox Skip to main content The homepage Vox Vox logo Explainers Politics Culture Advice Listen Audio Watch Video Menu The homepage Vox Vox logo Navigation Drawer close Close Search Video Watch Audio Listen Crossword\n"
     ]
    }
   ],
   "source": [
    "\n",
    "\n",
    "def scrape_website(url):\n",
    "    \"\"\"\n",
    "    Scrapes the given URL and returns a dictionary with:\n",
    "      - 'title': The <title> text (or a fallback if none is found).\n",
    "      - 'snippet': The first 250 characters of the visible page text.\n",
    "      \n",
    "    Parameters:\n",
    "        url (str): The URL of the website to scrape.\n",
    "\n",
    "    Returns:\n",
    "        dict: Contains 'title' and 'snippet' keys on success; \n",
    "              or None if an error occurs.\n",
    "    \"\"\"\n",
    "    try:\n",
    "        response = requests.get(url, timeout=10)\n",
    "        response.raise_for_status()  # Raises an HTTPError if the status is 4xx, 5xx\n",
    "        \n",
    "        # Parse HTML\n",
    "        soup = BeautifulSoup(response.text, \"html.parser\")\n",
    "        \n",
    "        # Get <title>\n",
    "        title_tag = soup.find('title')\n",
    "        if title_tag:\n",
    "            title = title_tag.get_text().strip()\n",
    "        else:\n",
    "            title = \"No title found\"\n",
    "        \n",
    "        # Get all visible text\n",
    "        # Using separator=' ' to ensure words are separated when joined\n",
    "        full_text = soup.get_text(separator=' ', strip=True)\n",
    "        \n",
    "        # Extract first 250 characters\n",
    "        snippet = full_text[:250]\n",
    "        \n",
    "        return {\n",
    "            \"title\": title,\n",
    "            \"snippet\": snippet\n",
    "        }\n",
    "    \n",
    "    except Exception as e:\n",
    "        print(f\"Failed to scrape {url}. Reason: {e}\")\n",
    "        return None\n",
    "\n",
    "if __name__ == \"__main__\":\n",
    "    # Example usage:\n",
    "    test_url = \"https://www.nytimes.com\"  # Or any other news URL\n",
    "    url = input(\"Enter URL:\")\n",
    "    result = scrape_website(url)\n",
    "    if result:\n",
    "        print(\"Title:\", result[\"title\"])\n",
    "        print(\"Snippet:\", result[\"snippet\"])\n",
    "    else:\n",
    "        print(\"Scraping failed.\")\n"
   ]
  },
  {
   "cell_type": "code",
   "execution_count": 8,
   "metadata": {},
   "outputs": [
    {
     "name": "stdout",
     "output_type": "stream",
     "text": [
      "Title: RFK Jr. hearing live updates: 2nd day of questions expected on vaccines, abortion - ABC News\n",
      "Description: He's appearing before the Senate Health, Education, Labor and Pension Committee.\n",
      "Snippet: RFK Jr. hearing live updates: 2nd day of questions expected on vaccines, abortion - ABC News ABC News Video Live Shows 538 Shop Log In Stream on Live RFK Jr. hearing live updates: 2nd day of questions expected on vaccines, abortion He's appearing before the Senate Health, Education, Labor and Pension Committee. 4:29 Robert F. Kennedy Jr., U.S. President Trump's nominee to be Secretary of Health and Human Services, testifies before a Senate Finance Committee confirmation hearing on Capitol Hill in Washington, Jan. 29, 2025. Nathan Howard/Reuters By Alexandra Hutzler , Ivan Pereira , and Mary Kekatos Last Updated: January 29, 2025, 3:56 PM EST President Donald Trump has promised he'd let Robert F. Kennedy Jr. \"go wild\" on health, food and medicine as head of the Department of Health and Human Services. Kennedy, a Democrat who ran as an independent but ended up supporting Trump in the 2024 presidential campaign, faced a confirmation grilling Wednesday over his controversial views -- on ev\n"
     ]
    }
   ],
   "source": [
    "import requests\n",
    "from bs4 import BeautifulSoup\n",
    "\n",
    "def scrape_website(url):\n",
    "    \"\"\"\n",
    "    Scrapes the given URL and returns a dictionary with:\n",
    "      - 'title': The <title> text (or a fallback if none is found).\n",
    "      - 'description': The content of the <meta name='description'> tag if available.\n",
    "      - 'snippet': The first 250 characters of the visible page text.\n",
    "      \n",
    "    Parameters:\n",
    "        url (str): The URL of the website to scrape.\n",
    "\n",
    "    Returns:\n",
    "        dict: Contains 'title', 'description', and 'snippet' on success; \n",
    "              or None if an error occurs.\n",
    "    \"\"\"\n",
    "    try:\n",
    "        response = requests.get(url, timeout=10)\n",
    "        response.raise_for_status()  # Raises an HTTPError if the status is 4xx/5xx\n",
    "        \n",
    "        # Parse HTML\n",
    "        soup = BeautifulSoup(response.text, \"html.parser\")\n",
    "        \n",
    "        # Get <title>\n",
    "        title_tag = soup.find('title')\n",
    "        if title_tag:\n",
    "            title = title_tag.get_text().strip()\n",
    "        else:\n",
    "            title = \"No title found\"\n",
    "        \n",
    "        # Get <meta name=\"description\" ... >\n",
    "        description_tag = soup.find('meta', attrs={'name': 'description'})\n",
    "        if description_tag and 'content' in description_tag.attrs:\n",
    "            description = description_tag['content'].strip()\n",
    "        else:\n",
    "            description = \"No description found\"\n",
    "        \n",
    "        # Get all visible text\n",
    "        full_text = soup.get_text(separator=' ', strip=True)\n",
    "        \n",
    "        # Extract first 250 characters\n",
    "        snippet = full_text[:1000]\n",
    "        \n",
    "        return {\n",
    "            \"title\": title,\n",
    "            \"description\": description,\n",
    "            \"snippet\": snippet\n",
    "        }\n",
    "    \n",
    "    except Exception as e:\n",
    "        print(f\"Failed to scrape {url}. Reason: {e}\")\n",
    "        return None\n",
    "\n",
    "if __name__ == \"__main__\":\n",
    "    # Example usage:\n",
    "    url = input(\"Enter URL:\")\n",
    "    result = scrape_website(url)\n",
    "    if result:\n",
    "        print(\"Title:\", result[\"title\"])\n",
    "        print(\"Description:\", result[\"description\"])\n",
    "        print(\"Snippet:\", result[\"snippet\"])\n",
    "    else:\n",
    "        print(\"Scraping failed.\")\n",
    "        \n"
   ]
  }
 ],
 "metadata": {
  "kernelspec": {
   "display_name": "Python 3",
   "language": "python",
   "name": "python3"
  },
  "language_info": {
   "codemirror_mode": {
    "name": "ipython",
    "version": 3
   },
   "file_extension": ".py",
   "mimetype": "text/x-python",
   "name": "python",
   "nbconvert_exporter": "python",
   "pygments_lexer": "ipython3",
   "version": "3.10.1"
  }
 },
 "nbformat": 4,
 "nbformat_minor": 2
}
