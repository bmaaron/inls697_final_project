{
 "cells": [
  {
   "cell_type": "code",
   "execution_count": 1,
   "metadata": {},
   "outputs": [],
   "source": [
    "import os\n",
    "import random\n",
    "import numpy as np\n",
    "import pandas as pd\n",
    "import torch\n",
    "from sklearn.model_selection import train_test_split\n",
    "from datasets import Dataset, DatasetDict\n",
    "from transformers import (\n",
    "    AutoConfig,\n",
    "    AutoTokenizer,\n",
    "    AutoModelForSequenceClassification,\n",
    "    TrainingArguments,\n",
    "    DebertaV2Tokenizer,\n",
    "    Trainer,\n",
    "    pipeline,\n",
    ")\n",
    "from sklearn.metrics import f1_score, accuracy_score\n",
    "\n",
    "# -----------------------------------------------------------------------------\n",
    "# 1. Set Random Seeds for Reproducibility\n",
    "# -----------------------------------------------------------------------------\n",
    "\n",
    "seed = 239\n",
    "random.seed(seed)\n",
    "np.random.seed(seed)\n",
    "torch.manual_seed(seed)\n",
    "if torch.cuda.is_available():\n",
    "    torch.cuda.manual_seed_all(seed)\n"
   ]
  },
  {
   "cell_type": "code",
   "execution_count": null,
   "metadata": {},
   "outputs": [],
   "source": [
    "\n",
    "# -----------------------------------------------------------------------------\n",
    "# 2. Define Training Parameters & Model Configuration\n",
    "# -----------------------------------------------------------------------------\n",
    "\n",
    "model_name = \"microsoft/mdeberta-v3-base\"\n",
    "\n",
    "# Load model configuration and update dropout settings\n",
    "config = AutoConfig.from_pretrained(model_name)\n",
    "config.hidden_dropout_prob = 0.05\n",
    "config.attention_probs_dropout_prob = 0.05\n",
    "\n",
    "# Load the slow tokenizer (requires SentencePiece)\n",
    "try:\n",
    "    tokenizer = AutoTokenizer.from_pretrained(model_name, use_fast=False)\n",
    "except ImportError as e:\n",
    "    print(\"Error: The slow tokenizer requires SentencePiece. Install it with: pip install sentencepiece\")\n",
    "    raise e"
   ]
  },
  {
   "cell_type": "code",
   "execution_count": null,
   "metadata": {},
   "outputs": [],
   "source": [
    "\n",
    "# -----------------------------------------------------------------------------\n",
    "# 3. Load and Sanitize Dataset\n",
    "# -----------------------------------------------------------------------------\n",
    "\n",
    "# Update these paths with your actual CSV file locations\n",
    "TRAIN_DATA_PATH = \"/nas/longleaf/home/bmaaron/processed/train.csv\"\n",
    "VALIDATION_DATA_PATH = \"/nas/longleaf/home/bmaaron/processed/val.csv\"\n",
    "TEST_DATA_PATH = \"/nas/longleaf/home/bmaaron/processed/test.csv\"\n",
    "\n",
    "def sanitize_text(text):\n",
    "    # Example: Remove leading/trailing whitespace.\n",
    "    return text.strip()\n",
    "\n",
    "# Load each CSV into a pandas DataFrame\n",
    "train_df = pd.read_csv(TRAIN_DATA_PATH)\n",
    "validation_df = pd.read_csv(VALIDATION_DATA_PATH)\n",
    "test_df = pd.read_csv(TEST_DATA_PATH)\n",
    "\n",
    "# Apply sanitization to the 'text' column for each split\n",
    "train_df[\"text\"] = train_df[\"text\"].apply(sanitize_text)\n",
    "validation_df[\"text\"] = validation_df[\"text\"].apply(sanitize_text)\n",
    "test_df[\"text\"] = test_df[\"text\"].apply(sanitize_text)\n",
    "\n",
    "# Build a label mapping based on all unique labels from all splits.\n",
    "# This ensures consistency between train, validation, and test.\n",
    "unique_labels = sorted(\n",
    "    set(train_df[\"label\"].unique()).union(set(validation_df[\"label\"].unique())).union(set(test_df[\"label\"].unique()))\n",
    ")\n",
    "label2id = {label: idx for idx, label in enumerate(unique_labels)}\n",
    "print(\"Label mapping:\", label2id)\n",
    "\n",
    "# Map the string labels to integers\n",
    "train_df[\"label\"] = train_df[\"label\"].map(label2id)\n",
    "validation_df[\"label\"] = validation_df[\"label\"].map(label2id)\n",
    "test_df[\"label\"] = test_df[\"label\"].map(label2id)\n",
    "\n",
    "# Optionally, confirm conversion by printing the first few labels\n",
    "print(\"Train labels after conversion:\", train_df[\"label\"].head(10))\n",
    "\n",
    "# Convert the pandas DataFrames to Hugging Face Datasets\n",
    "train_dataset = Dataset.from_pandas(train_df)\n",
    "validation_dataset = Dataset.from_pandas(validation_df)\n",
    "test_dataset = Dataset.from_pandas(test_df)\n",
    "\n",
    "# Create a DatasetDict for training and evaluation\n",
    "dataset_dict = DatasetDict({\n",
    "    \"train\": train_dataset,\n",
    "    \"validation\": validation_dataset,\n",
    "    \"test\": test_dataset,\n",
    "})\n",
    "\n",
    "print(\"Datasets loaded, sanitized, and labels converted successfully!\")"
   ]
  },
  {
   "cell_type": "code",
   "execution_count": null,
   "metadata": {},
   "outputs": [],
   "source": [
    "\n",
    "# -----------------------------------------------------------------------------\n",
    "# 4. Tokenize the Dataset\n",
    "# -----------------------------------------------------------------------------\n",
    "\n",
    "def tokenize_function(examples):\n",
    "    return tokenizer(\n",
    "        examples[\"text\"],\n",
    "        padding=\"max_length\",\n",
    "        truncation=True,\n",
    "        max_length=512,\n",
    "    )\n",
    "\n",
    "tokenized_datasets = dataset_dict.map(tokenize_function, batched=True)\n",
    "\n",
    "# Set format for PyTorch\n",
    "tokenized_datasets.set_format(\n",
    "    type=\"torch\", columns=[\"input_ids\", \"attention_mask\", \"label\"]\n",
    ")\n",
    "\n",
    "# Save the tokenized dataset to disk\n",
    "tokenized_datasets.save_to_disk(\"tokenized_data\")\n"
   ]
  },
  {
   "cell_type": "markdown",
   "metadata": {},
   "source": [
    "if kernel restart - load tokenized datasets below"
   ]
  },
  {
   "cell_type": "code",
   "execution_count": null,
   "metadata": {},
   "outputs": [],
   "source": [
    "from datasets import load_from_disk\n",
    "\n",
    "tokenized_datasets = load_from_disk(\"tokenized_data\")"
   ]
  },
  {
   "cell_type": "code",
   "execution_count": null,
   "metadata": {},
   "outputs": [],
   "source": [
    "\n",
    "# -----------------------------------------------------------------------------\n",
    "# 5. Prepare the Model\n",
    "# -----------------------------------------------------------------------------\n",
    "\n",
    "# Determine the number of unique labels from all splits (assumes labels are numeric)\n",
    "num_labels = pd.concat([train_df[\"label\"], validation_df[\"label\"], test_df[\"label\"]]).nunique()\n",
    "config.num_labels = num_labels\n",
    "\n",
    "\n",
    "model = AutoModelForSequenceClassification.from_pretrained(\n",
    "    model_name,   # model_name should be \"microsoft/mdeberta-v3-base\"\n",
    "    config=config, \n",
    ")\n",
    "print(\"mDeBERTa-v3-base model loaded successfully with\", num_labels, \"labels.\")"
   ]
  },
  {
   "cell_type": "code",
   "execution_count": null,
   "metadata": {},
   "outputs": [],
   "source": [
    "\n",
    "# -----------------------------------------------------------------------------\n",
    "# 6. Define Training Arguments\n",
    "# -----------------------------------------------------------------------------\n",
    "\n",
    "training_args = TrainingArguments(\n",
    "    output_dir=\"./results\",\n",
    "    eval_strategy=\"epoch\",\n",
    "    save_strategy=\"epoch\",\n",
    "    learning_rate=3e-5,\n",
    "    # Adjust the per-device batch size for FP32 on 48GB GPUs.\n",
    "    per_device_train_batch_size=32,  \n",
    "    per_device_eval_batch_size=32,\n",
    "    num_train_epochs=5,\n",
    "    warmup_steps=100,\n",
    "    weight_decay=0.01,\n",
    "    logging_dir=\"./logs\",\n",
    "    logging_steps=50,\n",
    "    load_best_model_at_end=True,\n",
    "    metric_for_best_model=\"eval_loss\",\n",
    "    greater_is_better=False,\n",
    "    seed=seed,\n",
    "    # Disable fp16 since we are training in single precision.\n",
    "    fp16=False,\n",
    "    dataloader_num_workers=8,\n",
    "    report_to=\"none\",\n",
    ")\n"
   ]
  },
  {
   "cell_type": "code",
   "execution_count": null,
   "metadata": {},
   "outputs": [],
   "source": [
    "\n",
    "# -----------------------------------------------------------------------------\n",
    "# 7. Define the Metrics for Evaluation\n",
    "# -----------------------------------------------------------------------------\n",
    "\n",
    "def compute_metrics(eval_pred):\n",
    "    logits, labels = eval_pred\n",
    "    predictions = np.argmax(logits, axis=-1)\n",
    "    f1 = f1_score(labels, predictions, average=\"weighted\")\n",
    "    acc = accuracy_score(labels, predictions)\n",
    "    return {\"accuracy\": acc, \"f1\": f1}\n"
   ]
  },
  {
   "cell_type": "code",
   "execution_count": null,
   "metadata": {},
   "outputs": [],
   "source": [
    "\n",
    "# -----------------------------------------------------------------------------\n",
    "# 8. Instantiate the Trainer\n",
    "# -----------------------------------------------------------------------------\n",
    "\n",
    "trainer = Trainer(\n",
    "    model=model,\n",
    "    args=training_args,\n",
    "    train_dataset=tokenized_datasets[\"train\"],\n",
    "    eval_dataset=tokenized_datasets[\"validation\"],\n",
    "    compute_metrics=compute_metrics,\n",
    ")\n"
   ]
  },
  {
   "cell_type": "code",
   "execution_count": null,
   "metadata": {},
   "outputs": [],
   "source": [
    "\n",
    "# -----------------------------------------------------------------------------\n",
    "# 9. Run Training and Evaluate the Model\n",
    "# -----------------------------------------------------------------------------\n",
    "\n",
    "# Start training; this will automatically evaluate on the validation set after each epoch\n",
    "train_result = trainer.train()\n",
    "\n",
    "# Optionally, save the final model checkpoint\n",
    "trainer.save_model(\"./final_model_checkpoint\")\n",
    "\n",
    "# Evaluate the best model on the test split\n",
    "test_metrics = trainer.evaluate(eval_dataset=tokenized_datasets[\"test\"])\n",
    "print(\"Test Metrics:\", test_metrics)\n",
    "\n"
   ]
  },
  {
   "cell_type": "code",
   "execution_count": null,
   "metadata": {},
   "outputs": [],
   "source": [
    "tokenizer.save_pretrained(\"./final_model_checkpoint\")"
   ]
  },
  {
   "cell_type": "code",
   "execution_count": 6,
   "metadata": {},
   "outputs": [
    {
     "name": "stderr",
     "output_type": "stream",
     "text": [
      "Device set to use cpu\n"
     ]
    },
    {
     "name": "stdout",
     "output_type": "stream",
     "text": [
      "Model is ready. Type text to analyze or 'exit' to quit.\n",
      "Results: [{'label': 'right', 'score': 0.4479616582393646}]\n",
      "Results: [{'label': 'center', 'score': 0.6844319105148315}]\n",
      "Results: [{'label': 'left', 'score': 0.49298906326293945}]\n",
      "Results: [{'label': 'right', 'score': 0.4805333912372589}]\n",
      "Results: [{'label': 'left', 'score': 0.49298906326293945}]\n",
      "Results: [{'label': 'right', 'score': 0.4805333912372589}]\n",
      "Results: [{'label': 'right', 'score': 0.5474206805229187}]\n",
      "Results: [{'label': 'right', 'score': 0.6045874357223511}]\n",
      "Results: [{'label': 'left', 'score': 0.49298906326293945}]\n",
      "Results: [{'label': 'right', 'score': 0.5087749361991882}]\n",
      "Results: [{'label': 'left', 'score': 0.49298906326293945}]\n"
     ]
    }
   ],
   "source": [
    "from transformers import pipeline, AutoModelForSequenceClassification, AutoTokenizer\n",
    "\n",
    "# Replace with the path or identifier of your saved model, e.g., \"./final_model_checkpoint\"\n",
    "model_path = \"/Users/bryce/Desktop/INLS697/INLS697_proj/DeBERTa/final_model_checkpoint\"\n",
    "\n",
    "# Load the model and tokenizer\n",
    "model = AutoModelForSequenceClassification.from_pretrained(model_path)\n",
    "tokenizer = AutoTokenizer.from_pretrained(model_path)\n",
    "\n",
    "# Create a text-classification pipeline\n",
    "nlp = pipeline(\"text-classification\", model=model, tokenizer=tokenizer)\n",
    "\n",
    "print(\"Model is ready. Type text to analyze or 'exit' to quit.\")\n",
    "\n",
    "while True:\n",
    "    text = input(\"Enter text: \")\n",
    "    if text.lower() == \"exit\":\n",
    "        break\n",
    "    # Get the prediction from the pipeline\n",
    "    results = nlp(text)\n",
    "    print(\"Results:\", results)\n"
   ]
  },
  {
   "cell_type": "markdown",
   "metadata": {},
   "source": [
    "{'center': 0, 'left': 1, 'right': 2}"
   ]
  },
  {
   "cell_type": "code",
   "execution_count": null,
   "metadata": {},
   "outputs": [],
   "source": [
    "\n"
   ]
  }
 ],
 "metadata": {
  "kernelspec": {
   "display_name": "Python 3",
   "language": "python",
   "name": "python3"
  },
  "language_info": {
   "codemirror_mode": {
    "name": "ipython",
    "version": 3
   },
   "file_extension": ".py",
   "mimetype": "text/x-python",
   "name": "python",
   "nbconvert_exporter": "python",
   "pygments_lexer": "ipython3",
   "version": "3.10.1"
  }
 },
 "nbformat": 4,
 "nbformat_minor": 2
}
